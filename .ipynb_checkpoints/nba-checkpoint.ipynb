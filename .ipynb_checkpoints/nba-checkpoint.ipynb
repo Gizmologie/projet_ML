{
 "cells": [
  {
   "cell_type": "code",
   "execution_count": 8,
   "id": "timely-liberal",
   "metadata": {},
   "outputs": [],
   "source": [
    "#Import des librairies utiles\n",
    "import pandas as pd \n",
    "import numpy as np \n",
    "import seaborn as sns\n",
    "import matplotlib.pyplot as plt\n",
    "import matplotlib as mpl"
   ]
  },
  {
   "cell_type": "code",
   "execution_count": 9,
   "id": "tamil-logistics",
   "metadata": {},
   "outputs": [],
   "source": [
    "#Initialisation du theme seaborn\n",
    "sns.set_theme()"
   ]
  },
  {
   "cell_type": "code",
   "execution_count": 3,
   "id": "suburban-dress",
   "metadata": {},
   "outputs": [],
   "source": [
    "#Ouverture du fichier CSV\n",
    "nba = pd.read_csv('./data/')'"
   ]
  }
 ],
 "metadata": {
  "kernelspec": {
   "display_name": "Python 3",
   "language": "python",
   "name": "python3"
  },
  "language_info": {
   "codemirror_mode": {
    "name": "ipython",
    "version": 3
   },
   "file_extension": ".py",
   "mimetype": "text/x-python",
   "name": "python",
   "nbconvert_exporter": "python",
   "pygments_lexer": "ipython3",
   "version": "3.9.2"
  }
 },
 "nbformat": 4,
 "nbformat_minor": 5
}
